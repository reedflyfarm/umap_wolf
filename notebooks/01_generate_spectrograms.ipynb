{
 "cells": [
  {
   "cell_type": "markdown",
   "metadata": {},
   "source": [
    "# Step 1: Generating spectrograms from audio files (and some cleaning)"
   ]
  },
  {
   "cell_type": "markdown",
   "metadata": {},
   "source": [
    "This script creates spectrograms from a list of input audio files.\n",
    "\n",
    "#### The following structure and files are required in the project directory:\n",
    "\n",
    "    ├── audio\n",
    "    │   ├── call_1.wav     <- call files \n",
    "    │   ├── call_2.wav     <- \n",
    "    │   ├── call_3.wav     <- \n",
    "    │   └── ...            <- \n",
    "    ├── data                  \n",
    "    │   ├── info_file.csv  <- A \";\"-separated csv file containing metadata about the calls\n",
    "    │\n",
    "    ├── parameters         \n",
    "    ├── functions          <- the folder with the function files provided in the repo                \n",
    "    ├── notebooks          <- the folder with the notebook files provided in the repo    \n",
    "    ├── ...  \n",
    "    \n",
    "\n",
    "#### The following structure is required for info_file.csv:\n",
    "\n",
    "info_file.csv must contain at least the two columns: \"filename\" and \"label\". If labels are completely unknown, there should still be a label column with some NA identifiers (e.g \"NA\", \"unknown\", ...)\n",
    "\n",
    "    | filename   | label   | ...    |  .... \n",
    "    -----------------------------------------\n",
    "    | call_1.wav | alarm   |  ...   |  ....   \n",
    "    | call_2.wav | contact |  ...   |  ....  \n",
    "    | ...        |  ...    |  ...   |  ....   \n",
    "\n",
    "#### The following files are generated in this script:\n",
    "    \n",
    "    ├── data               \n",
    "    │   ├── df.pkl          <- pickled pandas dataframe with metadata, raw_audio and spectrograms\n",
    "    ├── parameters\n",
    "    │   ├── spec_params.py  <- a .py file containing the spectrogramming parameters that were used\n",
    "    ├── ...    "
   ]
  },
  {
   "cell_type": "markdown",
   "metadata": {},
   "source": [
    "## Import statements, constants and functions"
   ]
  },
  {
   "cell_type": "code",
   "execution_count": 1,
   "metadata": {},
   "outputs": [
    {
     "name": "stderr",
     "output_type": "stream",
     "text": [
      "C:\\Users\\JeffReed\\AppData\\Roaming\\Python\\Python311\\site-packages\\pandas\\core\\arrays\\masked.py:60: UserWarning: Pandas requires version '1.3.6' or newer of 'bottleneck' (version '1.3.5' currently installed).\n",
      "  from pandas.core import (\n"
     ]
    }
   ],
   "source": [
    "import pandas as pd\n",
    "import numpy as np\n",
    "import pickle\n",
    "import os\n",
    "from pathlib import Path\n",
    "import umap\n",
    "import random\n",
    "import librosa\n",
    "import librosa.display\n",
    "import matplotlib.pyplot as plt\n",
    "import sys \n",
    "sys.path.insert(0, '..')\n",
    "%matplotlib inline\n",
    "\n",
    "from functions.audio_functions import generate_mel_spectrogram, read_wavfile\n",
    "from functions.preprocessing_functions import calc_zscore, pad_spectro\n",
    "\n",
    "\n",
    "# Function for plotting example spectrograms\n",
    "def plot_examples(df, random_indices, spec_type):\n",
    "    \n",
    "    if spec_type in df.columns:\n",
    "    \n",
    "        df_subset = df.iloc[random_indices,:]\n",
    "        specs = df_subset[spec_type].values\n",
    "\n",
    "        plt.figure(figsize=(len(random_indices)*3,3))\n",
    "        \n",
    "        for i,spec in enumerate(specs):\n",
    "            plt.subplot(1, len(random_indices), i+1)\n",
    "            plt.imshow(spec, origin='lower')\n",
    "        plt.suptitle(spec_type)\n",
    "        plt.tight_layout()\n",
    "    else:\n",
    "        print(\"Error: \",spec_type, \" not in df columns\")"
   ]
  },
  {
   "cell_type": "code",
   "execution_count": 2,
   "metadata": {},
   "outputs": [],
   "source": [
    "# Set important paths\n",
    "P_DIR = str(Path(os.getcwd()).parents[0])            # project directory, by default set to parent directory\n",
    "                                                     # of your current working directory\n",
    "    \n",
    "AUDIO_IN = os.path.join(os.path.sep, P_DIR, 'audio') # --> audio directory, contains audio (.wav) files\n",
    "DATA = os.path.join(os.path.sep, P_DIR, 'data')      # --> empty data directory, output files will be put here\n",
    "\n",
    "\n",
    "# Information about the info_file.csv\n",
    "LABEL_COL = \"label\"                                 # -->name of column that contains labels\n",
    "\n",
    "NA_DESCRIPTORS = [0, np.nan, \"NA\", \"na\",            # Which values indicate that this vocalization is unlabelled?\n",
    "                  \"not available\", \"None\",          # (add your NA descriptor if not yet in list)\n",
    "                  \"Unknown\", \"unknown\", None, \"\"]        \n",
    "                                                     \n",
    "NEW_NA_INDICATOR = \"unknown\"                        # all vocalizations without label will be relabelled to\n",
    "                                                    # \"unkown\"\n",
    "\n",
    "# Other parameters\n",
    "PLOT_EXAMPLES = True                                # Do you want to plot example spectrograms?"
   ]
  },
  {
   "cell_type": "code",
   "execution_count": 3,
   "metadata": {},
   "outputs": [],
   "source": [
    "# Check if directories are present\n",
    "\n",
    "if not os.path.isdir(AUDIO_IN):\n",
    "    print(\"No audio directory found\")\n",
    "\n",
    "if not os.path.isdir(DATA):\n",
    "    os.mkdir(DATA)"
   ]
  },
  {
   "cell_type": "markdown",
   "metadata": {},
   "source": [
    "# __*********************** NOTE  ***********************__\n",
    "\n",
    "__By default, only mel-transformed, Decibel-transformed spectrograms are generated.__ \n",
    "\n",
    "If desired, you can __also create denoised spectrograms__ (bandpass-filtered to remove frequencies that likely only contain noise, or median subtracted to remove the effect of broadband impulse noise) __and time-stretched spectrograms__, e.g. stretch all spectrograms to the same duration. This may be helpful, if you do not wish to differentiate calls with the same shape, but different duration.\n",
    "\n",
    "Set the variables BANDPASS_FILTER, MEDIAN_SUB or STRETCH to \"True\" to create these additional, alternative spectrograms. You can also combine these preprocessing steps in any possible way (e.g. create bandpass-filtered, median-subtracted spectrograms) or add your own preprocessing steps."
   ]
  },
  {
   "cell_type": "code",
   "execution_count": 4,
   "metadata": {},
   "outputs": [],
   "source": [
    "BANDPASS_FILTER = False  # should bandpass-filtered spectrograms be generated?\n",
    "MEDIAN_SUB = False  # should median-subtracted spectrograms be generated (reduce impulse noise)?\n",
    "STRETCH = False    # should time-stretched spectrograms be generated (all stretched to max. duration in dataset)?"
   ]
  },
  {
   "cell_type": "markdown",
   "metadata": {},
   "source": [
    "## 1. Read in files"
   ]
  },
  {
   "cell_type": "code",
   "execution_count": 5,
   "metadata": {},
   "outputs": [],
   "source": [
    "info_file = os.path.join(os.path.sep, DATA, 'info_file.csv')\n",
    "\n",
    "if os.path.isfile(info_file):\n",
    "    #df = pd.read_csv(info_file, sep=\";\", index_col=[0])\n",
    "    df = pd.read_csv(info_file, sep=\";\")\n",
    "else:\n",
    "    print(\"Input file missing: \", info_file)\n",
    "    print(\"Will create default input file without labels\")\n",
    "    audiofiles = os.listdir(AUDIO_IN)\n",
    "    if len(audiofiles)>0:\n",
    "        df = pd.DataFrame({'filename': [os.path.basename(x) for x in audiofiles], 'label': [\"unknown\"] * len(audiofiles)})"
   ]
  },
  {
   "cell_type": "code",
   "execution_count": 6,
   "metadata": {},
   "outputs": [
    {
     "data": {
      "text/html": [
       "<div>\n",
       "<style scoped>\n",
       "    .dataframe tbody tr th:only-of-type {\n",
       "        vertical-align: middle;\n",
       "    }\n",
       "\n",
       "    .dataframe tbody tr th {\n",
       "        vertical-align: top;\n",
       "    }\n",
       "\n",
       "    .dataframe thead th {\n",
       "        text-align: right;\n",
       "    }\n",
       "</style>\n",
       "<table border=\"1\" class=\"dataframe\">\n",
       "  <thead>\n",
       "    <tr style=\"text-align: right;\">\n",
       "      <th></th>\n",
       "      <th>filename</th>\n",
       "      <th>label</th>\n",
       "    </tr>\n",
       "  </thead>\n",
       "  <tbody>\n",
       "    <tr>\n",
       "      <th>0</th>\n",
       "      <td>YNP1_20230525_112502_0_00002_650.wav</td>\n",
       "      <td>Dusky Flycatcher</td>\n",
       "    </tr>\n",
       "    <tr>\n",
       "      <th>1</th>\n",
       "      <td>YNP1_20230525_112502_0_00005_650.wav</td>\n",
       "      <td>Dusky Flycatcher</td>\n",
       "    </tr>\n",
       "    <tr>\n",
       "      <th>2</th>\n",
       "      <td>YNP1_20230525_112502_0_00032_650.wav</td>\n",
       "      <td>Dusky Flycatcher</td>\n",
       "    </tr>\n",
       "    <tr>\n",
       "      <th>3</th>\n",
       "      <td>YNP1_20230525_112502_0_00047_650.wav</td>\n",
       "      <td>Dusky Flycatcher</td>\n",
       "    </tr>\n",
       "    <tr>\n",
       "      <th>4</th>\n",
       "      <td>YNP1_20230525_112502_0_00128_650.wav</td>\n",
       "      <td>Dusky Flycatcher</td>\n",
       "    </tr>\n",
       "    <tr>\n",
       "      <th>...</th>\n",
       "      <td>...</td>\n",
       "      <td>...</td>\n",
       "    </tr>\n",
       "    <tr>\n",
       "      <th>3940</th>\n",
       "      <td>YNP1_20230531_172502_0_03239_650.wav</td>\n",
       "      <td>Hammond's Flycatcher</td>\n",
       "    </tr>\n",
       "    <tr>\n",
       "      <th>3941</th>\n",
       "      <td>YNP1_20230531_172502_0_03404_650.wav</td>\n",
       "      <td>Dark-eyed Junco</td>\n",
       "    </tr>\n",
       "    <tr>\n",
       "      <th>3942</th>\n",
       "      <td>YNP1_20230531_172502_0_03410_650.wav</td>\n",
       "      <td>Dark-eyed Junco</td>\n",
       "    </tr>\n",
       "    <tr>\n",
       "      <th>3943</th>\n",
       "      <td>YNP1_20230531_172502_0_03440_650.wav</td>\n",
       "      <td>Dark-eyed Junco</td>\n",
       "    </tr>\n",
       "    <tr>\n",
       "      <th>3944</th>\n",
       "      <td>YNP1_20230531_172502_0_03518_650.wav</td>\n",
       "      <td>Mountain Chickadee</td>\n",
       "    </tr>\n",
       "  </tbody>\n",
       "</table>\n",
       "<p>3945 rows × 2 columns</p>\n",
       "</div>"
      ],
      "text/plain": [
       "                                  filename                 label\n",
       "0     YNP1_20230525_112502_0_00002_650.wav      Dusky Flycatcher\n",
       "1     YNP1_20230525_112502_0_00005_650.wav      Dusky Flycatcher\n",
       "2     YNP1_20230525_112502_0_00032_650.wav      Dusky Flycatcher\n",
       "3     YNP1_20230525_112502_0_00047_650.wav      Dusky Flycatcher\n",
       "4     YNP1_20230525_112502_0_00128_650.wav      Dusky Flycatcher\n",
       "...                                    ...                   ...\n",
       "3940  YNP1_20230531_172502_0_03239_650.wav  Hammond's Flycatcher\n",
       "3941  YNP1_20230531_172502_0_03404_650.wav       Dark-eyed Junco\n",
       "3942  YNP1_20230531_172502_0_03410_650.wav       Dark-eyed Junco\n",
       "3943  YNP1_20230531_172502_0_03440_650.wav       Dark-eyed Junco\n",
       "3944  YNP1_20230531_172502_0_03518_650.wav    Mountain Chickadee\n",
       "\n",
       "[3945 rows x 2 columns]"
      ]
     },
     "execution_count": 6,
     "metadata": {},
     "output_type": "execute_result"
    }
   ],
   "source": [
    "df"
   ]
  },
  {
   "cell_type": "markdown",
   "metadata": {},
   "source": [
    "#### Check if all audio files are in AUDIO_IN directory"
   ]
  },
  {
   "cell_type": "code",
   "execution_count": 7,
   "metadata": {},
   "outputs": [],
   "source": [
    "audiofiles = df['filename'].values             \n",
    "files_in_audio_directory = os.listdir(AUDIO_IN)\n",
    "\n",
    "# Are there any files that are in the info_file.csv, but not in AUDIO_IN?\n",
    "missing_files = list(set(audiofiles) - set(files_in_audio_directory))\n",
    "if len(missing_files)>0:\n",
    "    print(\"Warning: \", len(missing_files), \"files with no matching audio in audio folder\") \n",
    "    #print(missing)"
   ]
  },
  {
   "cell_type": "code",
   "execution_count": 8,
   "metadata": {},
   "outputs": [],
   "source": [
    "audio_filepaths = [os.path.join(os.path.sep, AUDIO_IN,x) for x in audiofiles]"
   ]
  },
  {
   "cell_type": "markdown",
   "metadata": {},
   "source": [
    "## 2. Adding audio (and samplerate) to dataframe"
   ]
  },
  {
   "cell_type": "code",
   "execution_count": 9,
   "metadata": {},
   "outputs": [],
   "source": [
    "raw_audio,samplerate_hz = map(list,zip(*[read_wavfile(x) for x in audio_filepaths]))\n",
    "\n",
    "df['raw_audio'] = raw_audio\n",
    "df['samplerate_hz'] = samplerate_hz"
   ]
  },
  {
   "cell_type": "code",
   "execution_count": 10,
   "metadata": {},
   "outputs": [
    {
     "name": "stdout",
     "output_type": "stream",
     "text": [
      "Dropped  0  rows due to missing/failed audio\n"
     ]
    }
   ],
   "source": [
    "# Removing NA rows\n",
    "\n",
    "nrows = df.shape[0]\n",
    "df.dropna(subset=['raw_audio'], inplace=True)\n",
    "print(\"Dropped \", nrows-df.shape[0], \" rows due to missing/failed audio\")"
   ]
  },
  {
   "cell_type": "markdown",
   "metadata": {},
   "source": [
    "## 3. Removing very long calls"
   ]
  },
  {
   "cell_type": "markdown",
   "metadata": {},
   "source": [
    "It's advisable to remove very long calls, as all calls will be zero-padded to the maximum duration in the dataset."
   ]
  },
  {
   "cell_type": "code",
   "execution_count": 11,
   "metadata": {},
   "outputs": [],
   "source": [
    "# Extract duration of calls\n",
    "df['duration_s'] = [x.shape[0] for x in df['raw_audio']]/df['samplerate_hz']"
   ]
  },
  {
   "cell_type": "code",
   "execution_count": 12,
   "metadata": {},
   "outputs": [],
   "source": [
    "# It can be helpful to plot the distribution to find a good cutoff\n",
    "\n",
    "#n, bins, patches = plt.hist(df['duration_s'])"
   ]
  },
  {
   "cell_type": "markdown",
   "metadata": {},
   "source": [
    "In our case, dataset was already cleaned and all calls were between 0-0.5s, so no need to remove long calls. Set MIN_DUR and MAX_DUR to values that make sense for your dataset."
   ]
  },
  {
   "cell_type": "code",
   "execution_count": 13,
   "metadata": {},
   "outputs": [],
   "source": [
    "MIN_DUR = 0  # --> minimum duration of calls in seconds\n",
    "MAX_DUR = 4.0 # --> maximum duration of calls in seconds"
   ]
  },
  {
   "cell_type": "code",
   "execution_count": 14,
   "metadata": {},
   "outputs": [
    {
     "name": "stdout",
     "output_type": "stream",
     "text": [
      "Dropped  0 rows below  0 s (min_dur)\n",
      "Dropped  0 rows above  4.0 s (max_dur)\n"
     ]
    }
   ],
   "source": [
    "print(\"Dropped \", df.loc[df['duration_s']<MIN_DUR,:].shape[0], \"rows below \", MIN_DUR, \"s (min_dur)\")\n",
    "df = df.loc[df['duration_s']>=MIN_DUR,:]\n",
    "print(\"Dropped \", df.loc[df['duration_s']>MAX_DUR,:].shape[0], \"rows above \", MAX_DUR, \"s (max_dur)\")\n",
    "df = df.loc[df['duration_s']<=MAX_DUR,:]"
   ]
  },
  {
   "cell_type": "markdown",
   "metadata": {},
   "source": [
    "## 4. Generate mel-spectrograms"
   ]
  },
  {
   "cell_type": "markdown",
   "metadata": {},
   "source": [
    "In this step, spectrograms are generated from audio files via short-time fourier transformation. Spectrograms capture the frequency components of a signal over time. A spectrogram is a 2D matrix, where each value represents the signal intensity in a specific time (columns) and frequency bin (row). In this case, the frequency axis of the spectrograms are also Mel-transformed (a logarithmic scale) and signal intensity is expressed on a Decibel scale."
   ]
  },
  {
   "cell_type": "markdown",
   "metadata": {},
   "source": [
    "### 4.1. Set spectrogramming parameters\n",
    "\n",
    "The following parameters define how the spectrograms are computed. These are default values which are appropriate for the meerkat dataset, but should be adapted for other datasets."
   ]
  },
  {
   "cell_type": "code",
   "execution_count": 15,
   "metadata": {},
   "outputs": [],
   "source": [
    "N_MELS = 40 # --> number of mel bins (usually 20-40)\n",
    "            # The frequency bins are transformed to this number of logarithmically spaced mel bins.\n",
    "\n",
    "FFT_WIN = 0.03 # --> length of audio chunk when applying STFT in seconds\n",
    "                   # FFT_WIN * samplerate = number of audio datapoints that go in one fft (=n_fft)\n",
    "\n",
    "FFT_HOP = FFT_WIN/8 # --> hop_length in seconds\n",
    "                        # FFT_HOP * samplerate = n of audio datapoints between successive ffts (=hop_length)\n",
    "\n",
    "WINDOW = 'hann' # --> name of window function\n",
    "                    # each frame of audio is windowed by a window function. We use the window function 'hanning',  \n",
    "\n",
    "FMIN = 0 # --> lower bound for frequency (in Hz) when generating Mel filterbank\n",
    "\n",
    "FMAX = int(np.min(df['samplerate_hz'])/2) #--> upper bound for frequency (in Hz) when generating Mel filterbank\n",
    "                                                     # this is set to 0.5 times the samplerate (-> Nyquist rule)\n",
    "                                                     # If input files have different samplerates, the lowest samplerate is used\n",
    "                                                     # to ensure all spectrograms have the same frequency resolution."
   ]
  },
  {
   "cell_type": "markdown",
   "metadata": {},
   "source": [
    "### 4.2. Save spectrogramming parameters\n",
    "\n",
    "Save the parameters that were used, as they will be accessed later to label the frequeny and time axes of spectrogram images correctly."
   ]
  },
  {
   "cell_type": "code",
   "execution_count": 16,
   "metadata": {},
   "outputs": [],
   "source": [
    "if not os.path.isdir(os.path.join(os.path.sep, P_DIR, 'parameters')):\n",
    "    os.mkdir(os.path.join(os.path.sep, P_DIR, 'parameters'))\n",
    "\n",
    "spec_params_file = os.path.join(os.path.sep, P_DIR, 'parameters','spec_params.py')\n",
    "\n",
    "lines = ['N_MELS = '+str(N_MELS),\n",
    "         'FFT_WIN = '+str(FFT_WIN),\n",
    "         'FFT_HOP = '+str(FFT_HOP),\n",
    "         'WINDOW = \"'+str(WINDOW)+'\"',\n",
    "         'FMIN = '+str(FMIN),'FMAX = '+str(FMAX)]\n",
    "    \n",
    "with open(spec_params_file, 'w') as f:\n",
    "    for line in lines:\n",
    "        f.write(line)\n",
    "        f.write('\\n')"
   ]
  },
  {
   "cell_type": "markdown",
   "metadata": {},
   "source": [
    "### 4.3. Generate spectrograms"
   ]
  },
  {
   "cell_type": "markdown",
   "metadata": {},
   "source": [
    "This code produces mel-transformed spectrograms on Decibel scale."
   ]
  },
  {
   "cell_type": "code",
   "execution_count": 17,
   "metadata": {},
   "outputs": [],
   "source": [
    "spectrograms = df.apply(lambda row: generate_mel_spectrogram(data = row['raw_audio'],\n",
    "                                                             rate = row['samplerate_hz'],\n",
    "                                                             n_mels = N_MELS,\n",
    "                                                             window = WINDOW,\n",
    "                                                             fft_win = FFT_WIN,\n",
    "                                                             fft_hop = FFT_HOP,\n",
    "                                                             fmax = FMAX), \n",
    "                               axis=1)\n",
    "\n",
    "\n",
    "df['spectrograms'] = spectrograms"
   ]
  },
  {
   "cell_type": "code",
   "execution_count": 18,
   "metadata": {},
   "outputs": [
    {
     "name": "stdout",
     "output_type": "stream",
     "text": [
      "Dropped  0  rows due to failed spectrogram generation\n"
     ]
    }
   ],
   "source": [
    "# Removing NA rows\n",
    "\n",
    "nrows = df.shape[0]\n",
    "df.dropna(subset=['spectrograms'], inplace=True)\n",
    "print(\"Dropped \", nrows-df.shape[0], \" rows due to failed spectrogram generation\")"
   ]
  },
  {
   "cell_type": "markdown",
   "metadata": {},
   "source": [
    "#### Show example spectrograms\n",
    "Plot some example spectrograms as a sanity-check, to see if they are reasonable"
   ]
  },
  {
   "cell_type": "code",
   "execution_count": 19,
   "metadata": {},
   "outputs": [],
   "source": [
    "# Randomly choose some example vocalizations\n",
    "\n",
    "n_examples = 3\n",
    "random_indices = [random.randint(0,df.shape[0]) for x in [0]*n_examples]"
   ]
  },
  {
   "cell_type": "code",
   "execution_count": 20,
   "metadata": {},
   "outputs": [
    {
     "data": {
      "image/png": "[encoded data removed]",
      "text/plain": [
       "<Figure size 900x300 with 3 Axes>"
      ]
     },
     "metadata": {},
     "output_type": "display_data"
    }
   ],
   "source": [
    "if PLOT_EXAMPLES: plot_examples(df, random_indices, 'spectrograms')"
   ]
  },
  {
   "cell_type": "markdown",
   "metadata": {},
   "source": [
    "## [Optional:  Generate denoised spectrograms (median subtraction):]\n",
    "\n",
    "Generate denoised spectrograms (denoised by median subtraction to reduce impulse noise) to have them available as an alternative input to UMAP:"
   ]
  },
  {
   "cell_type": "code",
   "execution_count": 21,
   "metadata": {},
   "outputs": [],
   "source": [
    "if MEDIAN_SUB:\n",
    "    df['denoised_spectrograms'] = [(spectrogram - np.median(spectrogram, axis=0)) for spectrogram in df['spectrograms']]"
   ]
  },
  {
   "cell_type": "code",
   "execution_count": 22,
   "metadata": {},
   "outputs": [],
   "source": [
    "if MEDIAN_SUB and PLOT_EXAMPLES: plot_examples(df, random_indices, 'denoised_spectrograms')"
   ]
  },
  {
   "cell_type": "markdown",
   "metadata": {},
   "source": [
    "## [Optional : Generate denoised spectrograms (bandpass filter):]\n",
    "\n",
    "Generate denoised spectrograms (denoised with a bandpass filter to reduce noise) to have them available as an alternative input to UMAP:\n",
    "\n",
    "__Note that FMIN and FMAX are then set to LOWCUT and HIGHCUT when generating the spectrograms (as all frequency intervals below or above will be empty)__"
   ]
  },
  {
   "cell_type": "code",
   "execution_count": 23,
   "metadata": {},
   "outputs": [],
   "source": [
    "LOWCUT = 300.0              # lower bound in Hz (all signals below this bound will be removed)  \n",
    "HIGHCUT = 3000.0            # upper bound in Hz (all signals above this bound will be removed)\n",
    "N_MELS_FILTERED = N_MELS    # N_Mels. Depending on your cutoffs, it may make sense to adapt these, too! "
   ]
  },
  {
   "cell_type": "code",
   "execution_count": 24,
   "metadata": {},
   "outputs": [],
   "source": [
    "if BANDPASS_FILTER:   \n",
    "    \n",
    "    # update spec_params\n",
    "    lines = ['N_MELS = '+str(N_MELS),\n",
    "             'FFT_WIN = '+str(FFT_WIN),\n",
    "             'FFT_HOP = '+str(FFT_HOP),\n",
    "             'WINDOW = \"'+str(WINDOW)+'\"',\n",
    "             'FMIN = '+str(FMIN),\n",
    "             'FMAX = '+str(FMAX),\n",
    "             'LOWCUT = '+str(LOWCUT),\n",
    "             'HIGHCUT = '+str(HIGHCUT),\n",
    "             'N_MELS_FILTERED = '+str(N_MELS_FILTERED)]\n",
    "\n",
    "    with open(os.path.join(os.path.sep, P_DIR, 'parameters','spec_params.py'), 'w') as f:\n",
    "        for line in lines:\n",
    "            f.write(line)\n",
    "            f.write('\\n')"
   ]
  },
  {
   "cell_type": "code",
   "execution_count": 25,
   "metadata": {},
   "outputs": [],
   "source": [
    "if BANDPASS_FILTER:\n",
    "    from functions.audio_functions import butter_bandpass_filter\n",
    "    \n",
    "    \n",
    "    # create filtered audio\n",
    "    df['filtered_audio'] = df.apply(lambda row: butter_bandpass_filter(data = row['raw_audio'],\n",
    "                                                                       lowcut = LOWCUT,\n",
    "                                                                       highcut = HIGHCUT,\n",
    "                                                                       sr = row['samplerate_hz'],\n",
    "                                                                       order = 6),\n",
    "                               axis=1)\n",
    "\n",
    "    # create spectrograms from filtered audio      \n",
    "    df['filtered_spectrograms'] = df.apply(lambda row: generate_mel_spectrogram(data = row['filtered_audio'],\n",
    "                                                                                rate = row['samplerate_hz'],\n",
    "                                                                                n_mels = N_MELS_FILTERED,\n",
    "                                                                                window = WINDOW,\n",
    "                                                                                fft_win = FFT_WIN,\n",
    "                                                                                fft_hop = FFT_HOP,\n",
    "                                                                                fmax = HIGHCUT,\n",
    "                                                                                fmin = LOWCUT\n",
    "                                                                               ), \n",
    "                                           axis=1)"
   ]
  },
  {
   "cell_type": "code",
   "execution_count": 26,
   "metadata": {},
   "outputs": [],
   "source": [
    "if BANDPASS_FILTER and PLOT_EXAMPLES: plot_examples(df, random_indices, 'filtered_spectrograms')"
   ]
  },
  {
   "cell_type": "markdown",
   "metadata": {},
   "source": [
    "## [Optional:  Generate stretched spectrograms (all stretched to equal length)]\n",
    "\n",
    "Stretch all calls to equal length, e.g. maximum length in the dataset (using phase vocoder algorithm) and generate spectrograms from these stretched calls."
   ]
  },
  {
   "cell_type": "code",
   "execution_count": 27,
   "metadata": {},
   "outputs": [],
   "source": [
    "if STRETCH:\n",
    "    from functions.audio_functions import generate_stretched_mel_spectrogram\n",
    "    \n",
    "    MAX_DURATION = np.max(df['duration_s'])\n",
    "\n",
    "    df['stretched_spectrograms'] = df.apply(lambda row: generate_stretched_mel_spectrogram(row['raw_audio'],\n",
    "                                                                                           row['samplerate_hz'],\n",
    "                                                                                           row['duration_s'],\n",
    "                                                                                           N_MELS,\n",
    "                                                                                           WINDOW,\n",
    "                                                                                           FFT_WIN,\n",
    "                                                                                           FFT_HOP,\n",
    "                                                                                           MAX_DURATION),\n",
    "                                            axis=1)"
   ]
  },
  {
   "cell_type": "code",
   "execution_count": 28,
   "metadata": {},
   "outputs": [],
   "source": [
    "if STRETCH and PLOT_EXAMPLES: plot_examples(df, random_indices, 'stretched_spectrograms')"
   ]
  },
  {
   "cell_type": "markdown",
   "metadata": {},
   "source": [
    "## [Optional: Create any combination of preprocessing steps]\n",
    "\n",
    "It is also possible to combine different preprocessing steps. For example, I could apply median subtraction to the bandpass-filtered spectrograms:"
   ]
  },
  {
   "cell_type": "code",
   "execution_count": 29,
   "metadata": {},
   "outputs": [],
   "source": [
    "if 'filtered_spectrograms' in df.columns:\n",
    "    df['denoised_filtered_spectrograms'] = [(spectrogram - np.median(spectrogram, axis=0)) for spectrogram in df['filtered_spectrograms']]"
   ]
  },
  {
   "cell_type": "code",
   "execution_count": 30,
   "metadata": {},
   "outputs": [
    {
     "name": "stdout",
     "output_type": "stream",
     "text": [
      "Error:  denoised_filtered_spectrograms  not in df columns\n"
     ]
    }
   ],
   "source": [
    "if PLOT_EXAMPLES: plot_examples(df, random_indices, 'denoised_filtered_spectrograms')"
   ]
  },
  {
   "cell_type": "markdown",
   "metadata": {},
   "source": [
    "## 5. Clean labels"
   ]
  },
  {
   "cell_type": "markdown",
   "metadata": {},
   "source": [
    "Make sure that all labels are strings and vocalizations with missing labels are labelled as \"unknown\""
   ]
  },
  {
   "cell_type": "code",
   "execution_count": 31,
   "metadata": {},
   "outputs": [],
   "source": [
    "df['original_label'] = df[LABEL_COL] #  original labels are saved in \"original_label\" column\n",
    "\n",
    "df['label'] = [\"unknown\" if x in NA_DESCRIPTORS else x for x in df[LABEL_COL]]  # \"unknown\" for all NA labels\n",
    "labels = df['label'].fillna(NEW_NA_INDICATOR) # double-check\n",
    "df['label'] = labels.astype(str) # transform to strings and save in df as \"label\" column"
   ]
  },
  {
   "cell_type": "markdown",
   "metadata": {},
   "source": [
    "## 6. Save dataframe"
   ]
  },
  {
   "cell_type": "code",
   "execution_count": 32,
   "metadata": {},
   "outputs": [],
   "source": [
    "df.to_pickle(os.path.join(os.path.sep, DATA, 'df.pkl'))"
   ]
  }
 ],
 "metadata": {
  "kernelspec": {
   "display_name": "Python 3",
   "language": "python",
   "name": "python3"
  },
  "language_info": {
   "codemirror_mode": {
    "name": "ipython",
    "version": 3
   },
   "file_extension": ".py",
   "mimetype": "text/x-python",
   "name": "python",
   "nbconvert_exporter": "python",
   "pygments_lexer": "ipython3",
   "version": "3.11.5"
  }
 },
 "nbformat": 4,
 "nbformat_minor": 4
}
